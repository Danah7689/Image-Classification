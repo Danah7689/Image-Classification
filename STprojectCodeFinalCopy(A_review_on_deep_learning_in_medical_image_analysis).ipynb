{
  "cells": [
    {
      "cell_type": "markdown",
      "metadata": {
        "id": "KsWYjEhYm6hi"
      },
      "source": [
        "#DNN Teq\n",
        "1. Load and Prepare MNIST Data:\n",
        "\n",
        "   - Download the MNIST dataset.\n",
        "   - Reshape the images to a flat format.\n",
        "   - Normalize the pixel values to be between 0 and 1.\n",
        "\n",
        "2. Convert Labels to One-Hot Encoding:\n",
        "\n",
        "   - Change the labels from numbers to a one-hot encoded format.\n",
        "\n",
        "3. Build the Neural Network (DNN):\n",
        "\n",
        "   - Create a sequential model.\n",
        "   - Add layers to the model, including dense layers and dropout layers.\n",
        "\n",
        "4. Train and Compile the Model Using Training Data:\n",
        "\n",
        "   - Compile the model with a loss function and optimizer.\n",
        "   - Train the model on the training data.\n",
        "\n",
        "5. Evaluate the Model Using Test Data:\n",
        "\n",
        "   - Test the model on unseen data to see how well it performs.\n",
        "\n",
        "6. Make Predictions Using the Test Data:\n",
        "\n",
        "   - Use the model to predict classes for the test images.\n",
        "   - Compare predicted classes with true labels.\n",
        "\n",
        "7. Input a New Image for Prediction:\n",
        "\n",
        "   - Load a new image.\n",
        "   - Preprocess the image and use the model to predict its class.\n",
        "   - Display the predicted class.\n"
      ]
    },
    {
      "cell_type": "code",
      "execution_count": 1,
      "metadata": {
        "id": "dsZhUapRWGgP"
      },
      "outputs": [],
      "source": [
        "import numpy as np  # numpy: A library used for mathematical operations.\n",
        "\n",
        "import matplotlib.pyplot as plt  # matplotlib.pyplot: A library for displaying graphs and images.\n",
        "\n",
        "from keras.datasets import mnist  # keras.datasets: Contains ready-to-use datasets like MNIST, which has images of digits.\n",
        "\n",
        "from keras.models import Sequential  # keras.models: Used to create the neural network model that will learn from the data.\n",
        "\n",
        "from keras.layers import Dense, Dropout  # keras.layers: Used to create the layers inside the neural network.\n",
        "\n",
        "from keras.utils import to_categorical  # keras.utils: Contains helper functions, like converting numbers to certain formats.\n",
        "\n",
        "from keras.preprocessing import image  # Importing a library to load images."
      ]
    },
    {
      "cell_type": "code",
      "execution_count": 2,
      "metadata": {
        "colab": {
          "base_uri": "https://localhost:8080/"
        },
        "id": "PtzgL9AXWdIW",
        "outputId": "517f375a-b144-448b-ecc2-03d47f8802c2"
      },
      "outputs": [
        {
          "output_type": "stream",
          "name": "stdout",
          "text": [
            "Downloading data from https://storage.googleapis.com/tensorflow/tf-keras-datasets/mnist.npz\n",
            "\u001b[1m11490434/11490434\u001b[0m \u001b[32m━━━━━━━━━━━━━━━━━━━━\u001b[0m\u001b[37m\u001b[0m \u001b[1m1s\u001b[0m 0us/step\n"
          ]
        }
      ],
      "source": [
        "#1-Load the MNIST dataset\n",
        "(x_train, y_train), (x_test, y_test) = mnist.load_data()\n",
        "\n",
        "# Reshape the data to fit the DNN model\n",
        "x_train = x_train.reshape((x_train.shape[0], 28 * 28))  # Convert images to a flat shape (1D array).\n",
        "x_test = x_test.reshape((x_test.shape[0], 28 * 28))  # Standard size of 28 × 28 for MNIST images.\n",
        "\n",
        "# Normalize the data\n",
        "x_train = x_train.astype('float32') / 255.0  # Scale pixel values to be between 0 and 1.\n",
        "x_test = x_test.astype('float32') / 255.0  # Same normalization for test data."
      ]
    },
    {
      "cell_type": "code",
      "execution_count": 3,
      "metadata": {
        "id": "kSMyUA1sodz8"
      },
      "outputs": [],
      "source": [
        "# 2-Convert labels to a format suitable for use\n",
        "# Change labels from numbers to one-hot encoded format\n",
        "y_train = to_categorical(y_train, 10)  # Convert numbers to one-hot encoding (e.g., 0 → [1, 0, 0, 0, 0, 0, 0, 0, 0, 0]).\n",
        "y_test = to_categorical(y_test, 10)  # Same for test labels."
      ]
    },
    {
      "cell_type": "code",
      "execution_count": 4,
      "metadata": {
        "colab": {
          "base_uri": "https://localhost:8080/"
        },
        "id": "Xiin17XLYQtc",
        "outputId": "8957f97a-7135-465e-cc84-6a9410208adb"
      },
      "outputs": [
        {
          "output_type": "stream",
          "name": "stderr",
          "text": [
            "/usr/local/lib/python3.10/dist-packages/keras/src/layers/core/dense.py:87: UserWarning: Do not pass an `input_shape`/`input_dim` argument to a layer. When using Sequential models, prefer using an `Input(shape)` object as the first layer in the model instead.\n",
            "  super().__init__(activity_regularizer=activity_regularizer, **kwargs)\n"
          ]
        }
      ],
      "source": [
        "#3-Build the Neural Network (DNN)\n",
        "model = Sequential()  # Create a sequential model.\n",
        "\n",
        "# First layer\n",
        "# Adding a \"Dense\" layer with 512 neurons. These neurons will learn patterns from the images.\n",
        "# `input_shape=(28 * 28,)` means the input will be a flat array of 784 numbers (28 * 28).\n",
        "model.add(Dense(512, activation='relu', input_shape=(28 * 28,)))\n",
        "\n",
        "# Add a Dropout layer to reduce overfitting\n",
        "# This layer helps prevent the model from learning too much from the training data and becoming unable to generalize to new data.\n",
        "model.add(Dropout(0.2))  # 20% of neurons will be dropped during training.\n",
        "\n",
        "# Second layer\n",
        "# Another Dense layer with 512 neurons, where the model will learn more patterns from the data.\n",
        "model.add(Dense(512, activation='relu'))\n",
        "\n",
        "# Another Dropout layer\n",
        "model.add(Dropout(0.2))\n",
        "\n",
        "# Final layer\n",
        "# This is the last layer that will output the results. We have 10 neurons for the 10 digits (0 to 9).\n",
        "# The `softmax` function makes the sum of the values in this layer equal to 1, helping us determine the predicted digit.\n",
        "model.add(Dense(10, activation='softmax'))  # 10 outputs for the digits.\n"
      ]
    },
    {
      "cell_type": "code",
      "execution_count": 6,
      "metadata": {
        "colab": {
          "base_uri": "https://localhost:8080/"
        },
        "id": "e1E5inRiYYXD",
        "outputId": "b32547f6-6802-420a-dc8b-c1013b8251d4"
      },
      "outputs": [
        {
          "output_type": "stream",
          "name": "stdout",
          "text": [
            "Epoch 1/10\n",
            "\u001b[1m938/938\u001b[0m \u001b[32m━━━━━━━━━━━━━━━━━━━━\u001b[0m\u001b[37m\u001b[0m \u001b[1m10s\u001b[0m 10ms/step - accuracy: 0.8841 - loss: 0.3798 - val_accuracy: 0.9670 - val_loss: 0.0981\n",
            "Epoch 2/10\n",
            "\u001b[1m938/938\u001b[0m \u001b[32m━━━━━━━━━━━━━━━━━━━━\u001b[0m\u001b[37m\u001b[0m \u001b[1m9s\u001b[0m 10ms/step - accuracy: 0.9680 - loss: 0.1020 - val_accuracy: 0.9719 - val_loss: 0.0881\n",
            "Epoch 3/10\n",
            "\u001b[1m938/938\u001b[0m \u001b[32m━━━━━━━━━━━━━━━━━━━━\u001b[0m\u001b[37m\u001b[0m \u001b[1m10s\u001b[0m 10ms/step - accuracy: 0.9765 - loss: 0.0724 - val_accuracy: 0.9775 - val_loss: 0.0753\n",
            "Epoch 4/10\n",
            "\u001b[1m938/938\u001b[0m \u001b[32m━━━━━━━━━━━━━━━━━━━━\u001b[0m\u001b[37m\u001b[0m \u001b[1m11s\u001b[0m 10ms/step - accuracy: 0.9818 - loss: 0.0564 - val_accuracy: 0.9790 - val_loss: 0.0717\n",
            "Epoch 5/10\n",
            "\u001b[1m938/938\u001b[0m \u001b[32m━━━━━━━━━━━━━━━━━━━━\u001b[0m\u001b[37m\u001b[0m \u001b[1m9s\u001b[0m 9ms/step - accuracy: 0.9849 - loss: 0.0456 - val_accuracy: 0.9777 - val_loss: 0.0750\n",
            "Epoch 6/10\n",
            "\u001b[1m938/938\u001b[0m \u001b[32m━━━━━━━━━━━━━━━━━━━━\u001b[0m\u001b[37m\u001b[0m \u001b[1m8s\u001b[0m 9ms/step - accuracy: 0.9859 - loss: 0.0408 - val_accuracy: 0.9811 - val_loss: 0.0676\n",
            "Epoch 7/10\n",
            "\u001b[1m938/938\u001b[0m \u001b[32m━━━━━━━━━━━━━━━━━━━━\u001b[0m\u001b[37m\u001b[0m \u001b[1m9s\u001b[0m 9ms/step - accuracy: 0.9885 - loss: 0.0360 - val_accuracy: 0.9801 - val_loss: 0.0728\n",
            "Epoch 8/10\n",
            "\u001b[1m938/938\u001b[0m \u001b[32m━━━━━━━━━━━━━━━━━━━━\u001b[0m\u001b[37m\u001b[0m \u001b[1m9s\u001b[0m 9ms/step - accuracy: 0.9896 - loss: 0.0303 - val_accuracy: 0.9823 - val_loss: 0.0667\n",
            "Epoch 9/10\n",
            "\u001b[1m938/938\u001b[0m \u001b[32m━━━━━━━━━━━━━━━━━━━━\u001b[0m\u001b[37m\u001b[0m \u001b[1m8s\u001b[0m 9ms/step - accuracy: 0.9893 - loss: 0.0354 - val_accuracy: 0.9811 - val_loss: 0.0766\n",
            "Epoch 10/10\n",
            "\u001b[1m938/938\u001b[0m \u001b[32m━━━━━━━━━━━━━━━━━━━━\u001b[0m\u001b[37m\u001b[0m \u001b[1m10s\u001b[0m 8ms/step - accuracy: 0.9906 - loss: 0.0286 - val_accuracy: 0.9820 - val_loss: 0.0758\n"
          ]
        },
        {
          "output_type": "execute_result",
          "data": {
            "text/plain": [
              "<keras.src.callbacks.history.History at 0x78e9df492c20>"
            ]
          },
          "metadata": {},
          "execution_count": 6
        }
      ],
      "source": [
        "#4-Compile and Train the Model\n",
        "\n",
        "# Compile the model\n",
        "# This line prepares the model and defines how it will be optimized during training.\n",
        "# \"categorical_crossentropy\" is the loss function used for multi-class classification.\n",
        "# \"adam\" is the optimizer that will be used to improve the model's performance.\n",
        "# \"accuracy\" is the metric that will be monitored to see how accurate the model is.\n",
        "model.compile(loss='categorical_crossentropy', optimizer='adam', metrics=['accuracy'])\n",
        "\n",
        "# Train the model\n",
        "# Here we train the model using the training data.\n",
        "# \"batch_size=64\" means 64 images will be trained at a time.\n",
        "# \"epochs=10\" means training will run for 10 complete passes over the data.\n",
        "# \"validation_data=(x_test, y_test)\" are the test data that help us see how well the model is classifying.\n",
        "model.fit(x_train, y_train, batch_size=64, epochs=10, validation_data=(x_test, y_test))"
      ]
    },
    {
      "cell_type": "code",
      "execution_count": 7,
      "metadata": {
        "id": "ehZ52rXCYf1R",
        "colab": {
          "base_uri": "https://localhost:8080/"
        },
        "outputId": "e712c3a1-814a-4f2d-cab4-71d6c5449e2e"
      },
      "outputs": [
        {
          "output_type": "stream",
          "name": "stdout",
          "text": [
            "Accuracy: 98.20%\n"
          ]
        }
      ],
      "source": [
        "#5- Evaluate the Model Using Test Data\n",
        "\n",
        "# Evaluate the model using test data.\n",
        "scores = model.evaluate(x_test, y_test, verbose=0)  # Get the accuracy and loss on the test data.\n",
        "print(f'Accuracy: {scores[1] * 100:.2f}%')  # Print the accuracy as a percentage.\n"
      ]
    },
    {
      "cell_type": "code",
      "execution_count": 8,
      "metadata": {
        "id": "gg4NhslTr8Db",
        "colab": {
          "base_uri": "https://localhost:8080/",
          "height": 1000
        },
        "outputId": "3f82754f-5c81-4c83-e2bc-5a467155e5a3"
      },
      "outputs": [
        {
          "output_type": "stream",
          "name": "stdout",
          "text": [
            "\u001b[1m313/313\u001b[0m \u001b[32m━━━━━━━━━━━━━━━━━━━━\u001b[0m\u001b[37m\u001b[0m \u001b[1m1s\u001b[0m 2ms/step\n"
          ]
        },
        {
          "output_type": "display_data",
          "data": {
            "text/plain": [
              "<Figure size 640x480 with 1 Axes>"
            ],
            "image/png": "[encoded data removed]"
          },
          "metadata": {}
        },
        {
          "output_type": "display_data",
          "data": {
            "text/plain": [
              "<Figure size 640x480 with 1 Axes>"
            ],
            "image/png": "[encoded data removed]"
          },
          "metadata": {}
        },
        {
          "output_type": "display_data",
          "data": {
            "text/plain": [
              "<Figure size 640x480 with 1 Axes>"
            ],
            "image/png": "[encoded data removed]"
          },
          "metadata": {}
        },
        {
          "output_type": "display_data",
          "data": {
            "text/plain": [
              "<Figure size 640x480 with 1 Axes>"
            ],
            "image/png": "[encoded data removed]"
          },
          "metadata": {}
        },
        {
          "output_type": "display_data",
          "data": {
            "text/plain": [
              "<Figure size 640x480 with 1 Axes>"
            ],
            "image/png": "[encoded data removed]"
          },
          "metadata": {}
        },
        {
          "output_type": "display_data",
          "data": {
            "text/plain": [
              "<Figure size 640x480 with 1 Axes>"
            ],
            "image/png": "[encoded data removed]"
          },
          "metadata": {}
        },
        {
          "output_type": "display_data",
          "data": {
            "text/plain": [
              "<Figure size 640x480 with 1 Axes>"
            ],
            "image/png": "[encoded data removed]"
          },
          "metadata": {}
        },
        {
          "output_type": "display_data",
          "data": {
            "text/plain": [
              "<Figure size 640x480 with 1 Axes>"
            ],
            "image/png": "[encoded data removed]"
          },
          "metadata": {}
        },
        {
          "output_type": "display_data",
          "data": {
            "text/plain": [
              "<Figure size 640x480 with 1 Axes>"
            ],
            "image/png": "[encoded data removed]"
          },
          "metadata": {}
        },
        {
          "output_type": "display_data",
          "data": {
            "text/plain": [
              "<Figure size 640x480 with 1 Axes>"
            ],
            "image/png": "[encoded data removed]"
          },
          "metadata": {}
        }
      ],
      "source": [
        "#6- Make Predictions Using the Test Data\n",
        "\n",
        "# Make predictions using the test data\n",
        "predictions = model.predict(x_test)  # The model generates predictions for all images in the test set (x_test).\n",
        "\n",
        "# Convert predictions from probabilities to actual classes by taking the highest probability\n",
        "predicted_classes = np.argmax(predictions, axis=1)  # np.argmax selects the highest value in each prediction (represents the predicted class).\n",
        "\n",
        "# Convert true labels (which were in one-hot format) to actual numbers\n",
        "true_classes = np.argmax(y_test, axis=1)  # Convert true labels from one-hot format to actual numbers (0, 1, 2, ..., 9).\n",
        "\n",
        "# Display some images with predictions\n",
        "for i in range(10):  # Show 10 images from the test data.\n",
        "    plt.imshow(x_test[i].reshape(28, 28), cmap='gray')  # Display the image in the correct format (28x28) using grayscale.\n",
        "    plt.title(f'True: {true_classes[i]}, Predicted: {predicted_classes[i]}')  # Show the title with the true and predicted number.\n",
        "    plt.axis('off')  # Turn off the axes for a clearer image.\n",
        "    plt.show()  # Show the image with the prediction."
      ]
    },
    {
      "cell_type": "code",
      "execution_count": 11,
      "metadata": {
        "id": "L0VJVN9yYn6Z",
        "colab": {
          "base_uri": "https://localhost:8080/",
          "height": 464
        },
        "outputId": "02217813-b81c-4a3c-c567-44a5057e6fde"
      },
      "outputs": [
        {
          "output_type": "stream",
          "name": "stdout",
          "text": [
            "\u001b[1m1/1\u001b[0m \u001b[32m━━━━━━━━━━━━━━━━━━━━\u001b[0m\u001b[37m\u001b[0m \u001b[1m0s\u001b[0m 18ms/step\n",
            "Predicted Class for the input image: 8\n"
          ]
        },
        {
          "output_type": "display_data",
          "data": {
            "text/plain": [
              "<Figure size 640x480 with 1 Axes>"
            ],
            "image/png": "[encoded data removed]"
          },
          "metadata": {}
        }
      ],
      "source": [
        "#7-Input a New Image for Prediction\n",
        "\n",
        "# 1. Load a new image from the path (replace with the actual image path)\n",
        "img_path = '/content/drive/MyDrive/MNIST-2.webp'  # Specify the actual path of the image you want to input.\n",
        "img = image.load_img(img_path, target_size=(28, 28), color_mode='grayscale')  # Load the image and resize it.\n",
        "\n",
        "# 2. Convert the image to an array of pixels\n",
        "img_array = image.img_to_array(img)  # Convert the image to a numpy array.\n",
        "\n",
        "# 3. Normalize the image the same way MNIST data was normalized\n",
        "img_array = img_array.astype('float32') / 255.0  # Scale pixel values to be between 0 and 1.\n",
        "\n",
        "# 4. Reshape the image to fit the expected input of the neural network (28x28)\n",
        "img_array = img_array.reshape(1, 28 * 28)  # Convert the image to the appropriate shape (28*28).\n",
        "\n",
        "# 5. Make a prediction using the trained model\n",
        "prediction = model.predict(img_array)  # Predict the class for the new image.\n",
        "\n",
        "# 6. Display the prediction (the expected class)\n",
        "predicted_class = np.argmax(prediction, axis=1)  # Get the predicted class.\n",
        "print(f'Predicted Class for the input image: {predicted_class[0]}')  # Print the predicted class.\n",
        "\n",
        "# Show the input image with the prediction\n",
        "plt.imshow(img_array.reshape(28, 28), cmap='gray')  # Display the input image.\n",
        "plt.title(f'Predicted Class: {predicted_class[0]}')  # Show the predicted class in the title.\n",
        "plt.axis('off')  # Turn off the axes.\n",
        "plt.show()  # Show the image with the prediction.\n"
      ]
    },
    {
      "cell_type": "code",
      "source": [
        "from google.colab import drive\n",
        "drive.mount('/content/drive')"
      ],
      "metadata": {
        "colab": {
          "base_uri": "https://localhost:8080/"
        },
        "id": "iR5dagCDc5rQ",
        "outputId": "c4ebe74d-60c5-4ae9-b547-cf3c73b84807"
      },
      "execution_count": 10,
      "outputs": [
        {
          "output_type": "stream",
          "name": "stdout",
          "text": [
            "Mounted at /content/drive\n"
          ]
        }
      ]
    },
    {
      "cell_type": "markdown",
      "metadata": {
        "id": "AzqdFKMn0eFp"
      },
      "source": [
        "#CNN Teq\n",
        "#Steps:\n",
        "\n",
        "#1-Load the MNIST Dataset: Load the images and labels.\n",
        "\n",
        "#2-Reshape the Data: Change the shape of the data to fit the neural network model.\n",
        "\n",
        "#3-Normalize the Data: Scale the pixel values to the range [0, 1].\n",
        "\n",
        "#4-Convert Labels: Transform the labels into a suitable format for the model.\n",
        "\n",
        "#5-Build the CNN Model: Create the convolutional neural network model.\n",
        "\n",
        "#6-Compile the Model: Define the loss function, optimizer, and metrics.\n",
        "\n",
        "#7-Train the Model: Train the model on the training data.\n",
        "\n",
        "#8-Evaluate the Model: Assess the model's performance on the test data.\n",
        "\n",
        "#9-Display Some Results: Show some images with true labels and model predictions.\n",
        "\n",
        "#10-Input a New Image for Prediction: Load a new image, convert it, and predict the number contained in it."
      ]
    },
    {
      "cell_type": "code",
      "execution_count": 12,
      "metadata": {
        "id": "OYRASqR4bNVQ"
      },
      "outputs": [],
      "source": [
        "#1. Download the MNIST data set (so it is divided into test and training data)\n",
        "#The model predicts the numbers in the images that have been inserted and downloaded\n",
        "\n",
        "import numpy as np # numpy: A library used for mathematical operations.\n",
        "import matplotlib.pyplot as plt # matplotlib.pyplot: A library for displaying graphs and images.\n",
        "from keras.datasets import mnist # keras.datasets: Contains ready-to-use datasets like MNIST, which has images of digits.\n",
        "\n",
        "\n",
        "# Load the MNIST dataset\n",
        "(x_train, y_train), (x_test, y_test) = mnist.load_data()"
      ]
    },
    {
      "cell_type": "code",
      "execution_count": 13,
      "metadata": {
        "id": "DpWk_zVmbNVR"
      },
      "outputs": [],
      "source": [
        "#2. Data restructuring (We do this to make the images clear for the computer to handle them correctly)\n",
        "\n",
        "# Reshape the data to fit the CNN model\n",
        "x_train = x_train.reshape((x_train.shape[0], 28, 28, 1))\n",
        "x_test = x_test.reshape((x_test.shape[0], 28, 28, 1))"
      ]
    },
    {
      "cell_type": "code",
      "execution_count": 14,
      "metadata": {
        "id": "zO82zA9CbNVR"
      },
      "outputs": [],
      "source": [
        "#3. Data normalization (Converting pixels, which are colors, into smaller values so that they are easier to deal with)\n",
        "\n",
        "# Normalize the data\n",
        "x_train = x_train.astype('float32') / 255.0 # Scale pixel values to be between 0 and 1.\n",
        "x_test = x_test.astype('float32') / 255.0 # Same normalization for test data."
      ]
    },
    {
      "cell_type": "code",
      "execution_count": 15,
      "metadata": {
        "id": "2K_AKRbUbNVR"
      },
      "outputs": [],
      "source": [
        "#4. Converting labels (Putting a special label on each image using One-Hot Encoding)\n",
        "\n",
        "from keras.utils import to_categorical  # keras.utils: Contains helper functions, like converting numbers to certain formats.\n",
        "\n",
        "# Convert labels to a suitable format\n",
        "y_train = to_categorical(y_train, 10) # Convert numbers to one-hot encoding (e.g., 0 → [1, 0, 0, 0, 0, 0, 0, 0, 0, 0]).\n",
        "y_test = to_categorical(y_test, 10)# Same for test labels."
      ]
    },
    {
      "cell_type": "code",
      "execution_count": 16,
      "metadata": {
        "id": "KRX3Zu8pbNVS",
        "colab": {
          "base_uri": "https://localhost:8080/"
        },
        "outputId": "5c08bb61-7522-4f8a-83be-e0b400d8a0ee"
      },
      "outputs": [
        {
          "output_type": "stream",
          "name": "stderr",
          "text": [
            "/usr/local/lib/python3.10/dist-packages/keras/src/layers/convolutional/base_conv.py:107: UserWarning: Do not pass an `input_shape`/`input_dim` argument to a layer. When using Sequential models, prefer using an `Input(shape)` object as the first layer in the model instead.\n",
            "  super().__init__(activity_regularizer=activity_regularizer, **kwargs)\n"
          ]
        }
      ],
      "source": [
        "#5. Building a CNN model (a new, empty model is built and then layers are added inside it, where each layer performs a specific task)\n",
        "\n",
        "from keras.models import Sequential # keras.models: Used to create the neural network model that will learn from the data.\n",
        "from keras.layers import Conv2D, MaxPooling2D, Flatten, Dense, Dropout  # keras.layers: Used to create the layers inside the neural network.\n",
        "\n",
        "\n",
        "# Build the CNN model\n",
        "model = Sequential()\n",
        "\n",
        "# First convolutional layer\n",
        "model.add(Conv2D(32, (3, 3), activation='relu', input_shape=(28, 28, 1)))\n",
        "model.add(MaxPooling2D(pool_size=(2, 2)))\n",
        "\n",
        "# Second convolutional layer\n",
        "model.add(Conv2D(64, (3, 3), activation='relu'))\n",
        "model.add(MaxPooling2D(pool_size=(2, 2)))\n",
        "\n",
        "# Flatten the data\n",
        "model.add(Flatten())\n",
        "\n",
        "# Fully connected layer\n",
        "model.add(Dense(128, activation='relu'))\n",
        "model.add(Dropout(0.5))  # Dropout layer to reduce overfitting\n",
        "model.add(Dense(10, activation='softmax'))  # Output layer"
      ]
    },
    {
      "cell_type": "code",
      "execution_count": 17,
      "metadata": {
        "id": "fap2UadZbNVS"
      },
      "outputs": [],
      "source": [
        "#6.Model assembly (Here we measure the extent of the error in the model prediction, the improvement of the model, the success of the model prediction)\n",
        "\n",
        "# Compile the model\n",
        "# This line prepares the model and defines how it will be optimized during training.\n",
        "# \"categorical_crossentropy\" is the loss function used for multi-class classification.\n",
        "# \"adam\" is the optimizer that will be used to improve the model's performance.\n",
        "# \"accuracy\" is the metric that will be monitored to see how accurate the model is.\n",
        "model.compile(loss='categorical_crossentropy', optimizer='adam', metrics=['accuracy'])"
      ]
    },
    {
      "cell_type": "code",
      "execution_count": 18,
      "metadata": {
        "colab": {
          "base_uri": "https://localhost:8080/"
        },
        "id": "etizrCDabNVS",
        "outputId": "9795adc3-6a4f-44a7-9c3a-bb32ba8e0fe2"
      },
      "outputs": [
        {
          "output_type": "stream",
          "name": "stdout",
          "text": [
            "Epoch 1/10\n",
            "\u001b[1m938/938\u001b[0m \u001b[32m━━━━━━━━━━━━━━━━━━━━\u001b[0m\u001b[37m\u001b[0m \u001b[1m37s\u001b[0m 38ms/step - accuracy: 0.8490 - loss: 0.4802 - val_accuracy: 0.9830 - val_loss: 0.0557\n",
            "Epoch 2/10\n",
            "\u001b[1m938/938\u001b[0m \u001b[32m━━━━━━━━━━━━━━━━━━━━\u001b[0m\u001b[37m\u001b[0m \u001b[1m35s\u001b[0m 37ms/step - accuracy: 0.9732 - loss: 0.0915 - val_accuracy: 0.9881 - val_loss: 0.0347\n",
            "Epoch 3/10\n",
            "\u001b[1m938/938\u001b[0m \u001b[32m━━━━━━━━━━━━━━━━━━━━\u001b[0m\u001b[37m\u001b[0m \u001b[1m40s\u001b[0m 36ms/step - accuracy: 0.9802 - loss: 0.0653 - val_accuracy: 0.9882 - val_loss: 0.0327\n",
            "Epoch 4/10\n",
            "\u001b[1m938/938\u001b[0m \u001b[32m━━━━━━━━━━━━━━━━━━━━\u001b[0m\u001b[37m\u001b[0m \u001b[1m44s\u001b[0m 40ms/step - accuracy: 0.9854 - loss: 0.0506 - val_accuracy: 0.9917 - val_loss: 0.0248\n",
            "Epoch 5/10\n",
            "\u001b[1m938/938\u001b[0m \u001b[32m━━━━━━━━━━━━━━━━━━━━\u001b[0m\u001b[37m\u001b[0m \u001b[1m39s\u001b[0m 38ms/step - accuracy: 0.9871 - loss: 0.0438 - val_accuracy: 0.9898 - val_loss: 0.0312\n",
            "Epoch 6/10\n",
            "\u001b[1m938/938\u001b[0m \u001b[32m━━━━━━━━━━━━━━━━━━━━\u001b[0m\u001b[37m\u001b[0m \u001b[1m34s\u001b[0m 36ms/step - accuracy: 0.9885 - loss: 0.0358 - val_accuracy: 0.9918 - val_loss: 0.0256\n",
            "Epoch 7/10\n",
            "\u001b[1m938/938\u001b[0m \u001b[32m━━━━━━━━━━━━━━━━━━━━\u001b[0m\u001b[37m\u001b[0m \u001b[1m36s\u001b[0m 38ms/step - accuracy: 0.9899 - loss: 0.0342 - val_accuracy: 0.9924 - val_loss: 0.0242\n",
            "Epoch 8/10\n",
            "\u001b[1m938/938\u001b[0m \u001b[32m━━━━━━━━━━━━━━━━━━━━\u001b[0m\u001b[37m\u001b[0m \u001b[1m40s\u001b[0m 36ms/step - accuracy: 0.9900 - loss: 0.0308 - val_accuracy: 0.9920 - val_loss: 0.0235\n",
            "Epoch 9/10\n",
            "\u001b[1m938/938\u001b[0m \u001b[32m━━━━━━━━━━━━━━━━━━━━\u001b[0m\u001b[37m\u001b[0m \u001b[1m33s\u001b[0m 35ms/step - accuracy: 0.9930 - loss: 0.0226 - val_accuracy: 0.9930 - val_loss: 0.0221\n",
            "Epoch 10/10\n",
            "\u001b[1m938/938\u001b[0m \u001b[32m━━━━━━━━━━━━━━━━━━━━\u001b[0m\u001b[37m\u001b[0m \u001b[1m32s\u001b[0m 34ms/step - accuracy: 0.9931 - loss: 0.0214 - val_accuracy: 0.9916 - val_loss: 0.0275\n"
          ]
        },
        {
          "output_type": "execute_result",
          "data": {
            "text/plain": [
              "<keras.src.callbacks.history.History at 0x78e9dcfc7ee0>"
            ]
          },
          "metadata": {},
          "execution_count": 18
        }
      ],
      "source": [
        "#7.Training the model (Here we begin the training process)\n",
        "\n",
        "# Train the model\n",
        "# Here we train the model using the training data.\n",
        "# \"batch_size=64\" means 64 images will be trained at a time.\n",
        "# \"epochs=10\" means training will run for 10 complete passes over the data.\n",
        "# \"validation_data=(x_test, y_test)\" are the test data that help us see how well the model is classifying.\n",
        "model.fit(x_train, y_train, batch_size=64, epochs=10, validation_data=(x_test, y_test))"
      ]
    },
    {
      "cell_type": "code",
      "execution_count": 19,
      "metadata": {
        "id": "SzJKt6thbNVS",
        "colab": {
          "base_uri": "https://localhost:8080/"
        },
        "outputId": "1bab1921-321e-428a-eb3c-9b2848c22309"
      },
      "outputs": [
        {
          "output_type": "stream",
          "name": "stdout",
          "text": [
            "Accuracy: 99.16%\n"
          ]
        }
      ],
      "source": [
        "#8.Model Evaluation (The quality of the model being trained is measured)\n",
        "\n",
        "# Evaluate the model\n",
        "scores = model.evaluate(x_test, y_test, verbose=0)\n",
        "print(f'Accuracy: {scores[1] * 100:.2f}%')"
      ]
    },
    {
      "cell_type": "code",
      "execution_count": 20,
      "metadata": {
        "id": "NPvqoaPWbNVS",
        "outputId": "dcb69a4e-77ab-471e-a54e-5a66f4cf0366",
        "colab": {
          "base_uri": "https://localhost:8080/",
          "height": 1000
        }
      },
      "outputs": [
        {
          "output_type": "stream",
          "name": "stdout",
          "text": [
            "\u001b[1m313/313\u001b[0m \u001b[32m━━━━━━━━━━━━━━━━━━━━\u001b[0m\u001b[37m\u001b[0m \u001b[1m2s\u001b[0m 7ms/step\n"
          ]
        },
        {
          "output_type": "display_data",
          "data": {
            "text/plain": [
              "<Figure size 640x480 with 1 Axes>"
            ],
            "image/png": "[encoded data removed]"
          },
          "metadata": {}
        },
        {
          "output_type": "display_data",
          "data": {
            "text/plain": [
              "<Figure size 640x480 with 1 Axes>"
            ],
            "image/png": "[encoded data removed]"
          },
          "metadata": {}
        },
        {
          "output_type": "display_data",
          "data": {
            "text/plain": [
              "<Figure size 640x480 with 1 Axes>"
            ],
            "image/png": "[encoded data removed]"
          },
          "metadata": {}
        },
        {
          "output_type": "display_data",
          "data": {
            "text/plain": [
              "<Figure size 640x480 with 1 Axes>"
            ],
            "image/png": "[encoded data removed]"
          },
          "metadata": {}
        },
        {
          "output_type": "display_data",
          "data": {
            "text/plain": [
              "<Figure size 640x480 with 1 Axes>"
            ],
            "image/png": "[encoded data removed]"
          },
          "metadata": {}
        },
        {
          "output_type": "display_data",
          "data": {
            "text/plain": [
              "<Figure size 640x480 with 1 Axes>"
            ],
            "image/png": "[encoded data removed]"
          },
          "metadata": {}
        },
        {
          "output_type": "display_data",
          "data": {
            "text/plain": [
              "<Figure size 640x480 with 1 Axes>"
            ],
            "image/png": "[encoded data removed]"
          },
          "metadata": {}
        },
        {
          "output_type": "display_data",
          "data": {
            "text/plain": [
              "<Figure size 640x480 with 1 Axes>"
            ],
            "image/png": "[encoded data removed]"
          },
          "metadata": {}
        },
        {
          "output_type": "display_data",
          "data": {
            "text/plain": [
              "<Figure size 640x480 with 1 Axes>"
            ],
            "image/png": "[encoded data removed]"
          },
          "metadata": {}
        },
        {
          "output_type": "display_data",
          "data": {
            "text/plain": [
              "<Figure size 640x480 with 1 Axes>"
            ],
            "image/png": "[encoded data removed]"
          },
          "metadata": {}
        }
      ],
      "source": [
        "#9.Showing some results (The results are predicted according to the number in the pictures based on the test, determining which results obtained a higher value, displaying the results)\n",
        "\n",
        "# Display some results using test data\n",
        "# Make predictions using the test data\n",
        "predictions = model.predict(x_test) # The model generates predictions for all images in the test set (x_test).\n",
        "\n",
        "# Convert predictions from probabilities to actual classes by taking the highest probability\n",
        "predicted_classes = np.argmax(predictions, axis=1) # np.argmax selects the highest value in each prediction (represents the\n",
        "\n",
        "# Convert true labels (which were in one-hot format) to actual numbers\n",
        "true_classes = np.argmax(y_test, axis=1)# Convert true labels from one-hot format to actual numbers (0, 1, 2, ..., 9).\n",
        "\n",
        "# Plot some images with predictions\n",
        "for i in range(10):# Show 10 images from the test data.\n",
        "    plt.imshow(x_test[i].reshape(28, 28), cmap='gray')# Display the image in the correct format (28x28) using grayscale.\n",
        "    plt.title(f'True: {true_classes[i]}, Predicted: {predicted_classes[i]}') # Show the title with the true and predicted number.\n",
        "    plt.axis('off')# Turn off the axes for a clearer image.\n",
        "    plt.show()  # Show the image with the prediction."
      ]
    },
    {
      "cell_type": "code",
      "execution_count": 21,
      "metadata": {
        "id": "ckf6YdlUbNVT",
        "outputId": "b129fe86-3ff2-4721-c30f-854307b8000c",
        "colab": {
          "base_uri": "https://localhost:8080/",
          "height": 464
        }
      },
      "outputs": [
        {
          "output_type": "stream",
          "name": "stdout",
          "text": [
            "\u001b[1m1/1\u001b[0m \u001b[32m━━━━━━━━━━━━━━━━━━━━\u001b[0m\u001b[37m\u001b[0m \u001b[1m0s\u001b[0m 15ms/step\n",
            "Predicted Class for the input image: 8\n"
          ]
        },
        {
          "output_type": "display_data",
          "data": {
            "text/plain": [
              "<Figure size 640x480 with 1 Axes>"
            ],
            "image/png": "[encoded data removed]"
          },
          "metadata": {}
        }
      ],
      "source": [
        "#10. Inserting a new image  (We tested the model by inserting external images and verifying the quality of the model’s work)  to predict\n",
        "\n",
        "from keras.preprocessing import image # Importing a library to load images.\n",
        "\n",
        "# 1. Load a new image from the path\n",
        "img_path = '/content/drive/MyDrive/MNIST-2.webp'  # Specify the actual path of the image you want to input\n",
        "img = image.load_img(img_path, target_size=(28, 28), color_mode='grayscale')\n",
        "\n",
        "# 2. Convert the image to an array of pixels\n",
        "img_array = image.img_to_array(img)\n",
        "\n",
        "# 3. Normalize the image in the same way as the MNIST data\n",
        "img_array = img_array.astype('float32') / 255.0\n",
        "\n",
        "# 4. Reshape the image to fit the expected input of the neural network (28x28x1)\n",
        "img_array = img_array.reshape(1, 28, 28, 1)\n",
        "\n",
        "# 5. Predict using the trained model\n",
        "prediction = model.predict(img_array)\n",
        "\n",
        "# 6. Display the prediction (the predicted class)\n",
        "predicted_class = np.argmax(prediction, axis=1)\n",
        "print(f'Predicted Class for the input image: {predicted_class[0]}')\n",
        "\n",
        "# Display the input image with the prediction\n",
        "plt.imshow(img_array.reshape(28, 28), cmap='gray')\n",
        "plt.title(f'Predicted Class: {predicted_class[0]}')\n",
        "plt.axis('off')\n",
        "plt.show()"
      ]
    },
    {
      "cell_type": "code",
      "execution_count": null,
      "metadata": {
        "id": "QFL6qp6pbNVT"
      },
      "outputs": [],
      "source": []
    },
    {
      "cell_type": "code",
      "execution_count": null,
      "metadata": {
        "id": "pELu9g6JcKpD"
      },
      "outputs": [],
      "source": []
    }
  ],
  "metadata": {
    "colab": {
      "provenance": []
    },
    "kernelspec": {
      "display_name": "Python 3 (ipykernel)",
      "language": "python",
      "name": "python3"
    },
    "language_info": {
      "codemirror_mode": {
        "name": "ipython",
        "version": 3
      },
      "file_extension": ".py",
      "mimetype": "text/x-python",
      "name": "python",
      "nbconvert_exporter": "python",
      "pygments_lexer": "ipython3",
      "version": "3.11.5"
    }
  },
  "nbformat": 4,
  "nbformat_minor": 0
}